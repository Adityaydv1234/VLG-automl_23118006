{
  "nbformat": 4,
  "nbformat_minor": 0,
  "metadata": {
    "colab": {
      "provenance": [],
      "toc_visible": true
    },
    "kernelspec": {
      "name": "python3",
      "display_name": "Python 3"
    },
    "language_info": {
      "name": "python"
    }
  },
  "cells": [
    {
      "cell_type": "code",
      "source": [
        "import numpy as np\n",
        "import pandas as pd\n",
        "from sklearn.model_selection import cross_val_score, StratifiedKFold\n",
        "from sklearn.ensemble import RandomForestClassifier\n",
        "from sklearn.metrics import roc_auc_score\n",
        "from bayes_opt import BayesianOptimization\n",
        "import optuna\n",
        "import matplotlib.pyplot as plt"
      ],
      "metadata": {
        "id": "8ZOdGJS1NiC9"
      },
      "execution_count": 1,
      "outputs": []
    },
    {
      "cell_type": "code",
      "source": [
        "# Define the dataset and task (Example using a synthetic dataset)\n",
        "from sklearn.datasets import make_classification\n",
        "X, y = make_classification(n_samples=1000, n_features=20, random_state=42)"
      ],
      "metadata": {
        "id": "rjZXHuNnWU6o"
      },
      "execution_count": 2,
      "outputs": []
    },
    {
      "cell_type": "code",
      "source": [
        "# Define model evaluation function\n",
        "def evaluate_model(model, X, y):\n",
        "    cv = StratifiedKFold(n_splits=5, shuffle=True, random_state=42)\n",
        "    scores = cross_val_score(model, X, y, cv=cv, scoring='roc_auc')\n",
        "    return scores.mean()"
      ],
      "metadata": {
        "id": "U25VZ1uDWcIe"
      },
      "execution_count": 5,
      "outputs": []
    },
    {
      "cell_type": "code",
      "source": [
        "# Hyperparameter optimization using Bayesian Optimization\n",
        "def bayesian_optimization(X, y):\n",
        "    def rf_cv(n_estimators, max_depth, min_samples_split, min_samples_leaf):\n",
        "        model = RandomForestClassifier(\n",
        "            n_estimators=int(n_estimators),\n",
        "            max_depth=int(max_depth),\n",
        "            min_samples_split=int(min_samples_split),\n",
        "            min_samples_leaf=int(min_samples_leaf),\n",
        "            random_state=42\n",
        "        )\n",
        "        return evaluate_model(model, X, y)\n",
        "\n",
        "    pbounds = {\n",
        "        'n_estimators': (10, 200),\n",
        "        'max_depth': (1, 20),\n",
        "        'min_samples_split': (2, 20),\n",
        "        'min_samples_leaf': (1, 20)\n",
        "    }\n",
        "\n",
        "    optimizer = BayesianOptimization(\n",
        "        f=rf_cv,\n",
        "        pbounds=pbounds,\n",
        "        random_state=42\n",
        "    )\n",
        "    optimizer.maximize(init_points=10, n_iter=30)\n",
        "\n",
        "    return optimizer.max"
      ],
      "metadata": {
        "id": "77n5MshAWcGN"
      },
      "execution_count": 6,
      "outputs": []
    },
    {
      "cell_type": "code",
      "source": [
        "# Hyperparameter optimization using TPE (Optuna)\n",
        "def tpe_optimization(X, y):\n",
        "    def objective(trial):\n",
        "        n_estimators = trial.suggest_int('n_estimators', 10, 200)\n",
        "        max_depth = trial.suggest_int('max_depth', 1, 20)\n",
        "        min_samples_split = trial.suggest_int('min_samples_split', 2, 20)\n",
        "        min_samples_leaf = trial.suggest_int('min_samples_leaf', 1, 20)\n",
        "\n",
        "        model = RandomForestClassifier(\n",
        "            n_estimators=n_estimators,\n",
        "            max_depth=max_depth,\n",
        "            min_samples_split=min_samples_split,\n",
        "            min_samples_leaf=min_samples_leaf,\n",
        "            random_state=42\n",
        "        )\n",
        "        return evaluate_model(model, X, y)\n",
        "\n",
        "    study = optuna.create_study(direction='maximize')\n",
        "    study.optimize(objective, n_trials=40)\n",
        "\n",
        "    return study.best_trial"
      ],
      "metadata": {
        "id": "3nA1LZK3WcDy"
      },
      "execution_count": 7,
      "outputs": []
    },
    {
      "cell_type": "code",
      "source": [
        "# Compare different optimization techniques\n",
        "def compare_optimizations(X, y):\n",
        "    random_model = RandomForestClassifier(random_state=42)\n",
        "    random_score = evaluate_model(random_model, X, y)\n",
        "\n",
        "    bayes_opt_result = bayesian_optimization(X, y)\n",
        "    bayes_opt_model = RandomForestClassifier(\n",
        "        n_estimators=int(bayes_opt_result['params']['n_estimators']),\n",
        "        max_depth=int(bayes_opt_result['params']['max_depth']),\n",
        "        min_samples_split=int(bayes_opt_result['params']['min_samples_split']),\n",
        "        min_samples_leaf=int(bayes_opt_result['params']['min_samples_leaf']),\n",
        "        random_state=42\n",
        "    )\n",
        "    bayes_opt_score = evaluate_model(bayes_opt_model, X, y)\n",
        "\n",
        "    tpe_opt_result = tpe_optimization(X, y)\n",
        "    tpe_opt_model = RandomForestClassifier(\n",
        "        n_estimators=tpe_opt_result.params['n_estimators'],\n",
        "        max_depth=tpe_opt_result.params['max_depth'],\n",
        "        min_samples_split=tpe_opt_result.params['min_samples_split'],\n",
        "        min_samples_leaf=tpe_opt_result.params['min_samples_leaf'],\n",
        "        random_state=42\n",
        "    )\n",
        "    tpe_opt_score = evaluate_model(tpe_opt_model, X, y)\n",
        "\n",
        "    print(f\"Random Model ROC AUC: {random_score:.4f}\")\n",
        "    print(f\"Bayesian Optimization ROC AUC: {bayes_opt_score:.4f}\")\n",
        "    print(f\"TPE Optimization ROC AUC: {tpe_opt_score:.4f}\")\n",
        "\n",
        "    return random_score, bayes_opt_score, tpe_opt_score"
      ],
      "metadata": {
        "id": "XtM8oh-3WcBs"
      },
      "execution_count": 8,
      "outputs": []
    },
    {
      "cell_type": "code",
      "source": [
        "# Visualize learning rate distribution curves\n",
        "def plot_learning_curves(random_score, bayes_opt_score, tpe_opt_score):\n",
        "    models = ['Random', 'Bayesian Opt', 'TPE Opt']\n",
        "    scores = [random_score, bayes_opt_score, tpe_opt_score]\n",
        "    plt.figure(figsize=(8, 6))\n",
        "    plt.bar(models, scores, color=['blue', 'green', 'red'])\n",
        "    plt.xlabel('Model')\n",
        "    plt.ylabel('ROC AUC Score')\n",
        "    plt.title('Comparison of Hyperparameter Optimization Techniques')\n",
        "    plt.show()\n",
        "\n",
        "# Main execution\n",
        "random_score, bayes_opt_score, tpe_opt_score = compare_optimizations(X, y)"
      ],
      "metadata": {
        "colab": {
          "base_uri": "https://localhost:8080/"
        },
        "id": "Vns7pNJ1Wb_n",
        "outputId": "bfaec197-1e94-4093-8874-4bec85ec0c16"
      },
      "execution_count": 9,
      "outputs": [
        {
          "output_type": "stream",
          "name": "stdout",
          "text": [
            "|   iter    |  target   | max_depth | min_sa... | min_sa... | n_esti... |\n",
            "-------------------------------------------------------------------------\n",
            "| \u001b[0m1        \u001b[0m | \u001b[0m0.9381   \u001b[0m | \u001b[0m8.116    \u001b[0m | \u001b[0m19.06    \u001b[0m | \u001b[0m15.18    \u001b[0m | \u001b[0m123.7    \u001b[0m |\n",
            "| \u001b[0m2        \u001b[0m | \u001b[0m0.9301   \u001b[0m | \u001b[0m3.964    \u001b[0m | \u001b[0m3.964    \u001b[0m | \u001b[0m3.046    \u001b[0m | \u001b[0m174.6    \u001b[0m |\n",
            "| \u001b[95m3        \u001b[0m | \u001b[95m0.9395   \u001b[0m | \u001b[95m12.42    \u001b[0m | \u001b[95m14.45    \u001b[0m | \u001b[95m2.371    \u001b[0m | \u001b[95m194.3    \u001b[0m |\n",
            "| \u001b[95m4        \u001b[0m | \u001b[95m0.9421   \u001b[0m | \u001b[95m16.82    \u001b[0m | \u001b[95m5.034    \u001b[0m | \u001b[95m5.273    \u001b[0m | \u001b[95m44.85    \u001b[0m |\n",
            "| \u001b[0m5        \u001b[0m | \u001b[0m0.9405   \u001b[0m | \u001b[0m6.781    \u001b[0m | \u001b[0m10.97    \u001b[0m | \u001b[0m9.775    \u001b[0m | \u001b[0m65.33    \u001b[0m |\n",
            "| \u001b[95m6        \u001b[0m | \u001b[95m0.9438   \u001b[0m | \u001b[95m12.63    \u001b[0m | \u001b[95m3.65     \u001b[0m | \u001b[95m7.259    \u001b[0m | \u001b[95m79.61    \u001b[0m |\n",
            "| \u001b[0m7        \u001b[0m | \u001b[0m0.9392   \u001b[0m | \u001b[0m9.665    \u001b[0m | \u001b[0m15.92    \u001b[0m | \u001b[0m5.594    \u001b[0m | \u001b[0m107.7    \u001b[0m |\n",
            "| \u001b[95m8        \u001b[0m | \u001b[95m0.9449   \u001b[0m | \u001b[95m12.26    \u001b[0m | \u001b[95m1.883    \u001b[0m | \u001b[95m12.94    \u001b[0m | \u001b[95m42.4     \u001b[0m |\n",
            "| \u001b[0m9        \u001b[0m | \u001b[0m0.9229   \u001b[0m | \u001b[0m2.236    \u001b[0m | \u001b[0m19.03    \u001b[0m | \u001b[0m19.38    \u001b[0m | \u001b[0m163.6    \u001b[0m |\n",
            "| \u001b[0m10       \u001b[0m | \u001b[0m0.9427   \u001b[0m | \u001b[0m6.788    \u001b[0m | \u001b[0m2.856    \u001b[0m | \u001b[0m14.32    \u001b[0m | \u001b[0m93.63    \u001b[0m |\n",
            "| \u001b[0m11       \u001b[0m | \u001b[0m0.8765   \u001b[0m | \u001b[0m1.0      \u001b[0m | \u001b[0m1.0      \u001b[0m | \u001b[0m20.0     \u001b[0m | \u001b[0m10.98    \u001b[0m |\n",
            "| \u001b[0m12       \u001b[0m | \u001b[0m0.9425   \u001b[0m | \u001b[0m20.0     \u001b[0m | \u001b[0m1.0      \u001b[0m | \u001b[0m20.0     \u001b[0m | \u001b[0m60.43    \u001b[0m |\n",
            "| \u001b[0m13       \u001b[0m | \u001b[0m0.9431   \u001b[0m | \u001b[0m12.08    \u001b[0m | \u001b[0m4.519    \u001b[0m | \u001b[0m5.951    \u001b[0m | \u001b[0m80.15    \u001b[0m |\n",
            "| \u001b[95m14       \u001b[0m | \u001b[95m0.9467   \u001b[0m | \u001b[95m20.0     \u001b[0m | \u001b[95m1.0      \u001b[0m | \u001b[95m2.0      \u001b[0m | \u001b[95m131.1    \u001b[0m |\n",
            "| \u001b[0m15       \u001b[0m | \u001b[0m0.9443   \u001b[0m | \u001b[0m20.0     \u001b[0m | \u001b[0m1.0      \u001b[0m | \u001b[0m20.0     \u001b[0m | \u001b[0m114.6    \u001b[0m |\n",
            "| \u001b[0m16       \u001b[0m | \u001b[0m0.9434   \u001b[0m | \u001b[0m20.0     \u001b[0m | \u001b[0m1.0      \u001b[0m | \u001b[0m20.0     \u001b[0m | \u001b[0m200.0    \u001b[0m |\n",
            "| \u001b[0m17       \u001b[0m | \u001b[0m0.9393   \u001b[0m | \u001b[0m20.0     \u001b[0m | \u001b[0m20.0     \u001b[0m | \u001b[0m20.0     \u001b[0m | \u001b[0m87.14    \u001b[0m |\n",
            "| \u001b[0m18       \u001b[0m | \u001b[0m0.9154   \u001b[0m | \u001b[0m1.0      \u001b[0m | \u001b[0m1.0      \u001b[0m | \u001b[0m2.0      \u001b[0m | \u001b[0m124.1    \u001b[0m |\n",
            "| \u001b[0m19       \u001b[0m | \u001b[0m0.9442   \u001b[0m | \u001b[0m20.0     \u001b[0m | \u001b[0m1.0      \u001b[0m | \u001b[0m20.0     \u001b[0m | \u001b[0m143.8    \u001b[0m |\n",
            "| \u001b[0m20       \u001b[0m | \u001b[0m0.9386   \u001b[0m | \u001b[0m20.0     \u001b[0m | \u001b[0m20.0     \u001b[0m | \u001b[0m2.0      \u001b[0m | \u001b[0m141.9    \u001b[0m |\n",
            "| \u001b[0m21       \u001b[0m | \u001b[0m0.9355   \u001b[0m | \u001b[0m18.81    \u001b[0m | \u001b[0m19.89    \u001b[0m | \u001b[0m17.69    \u001b[0m | \u001b[0m48.34    \u001b[0m |\n",
            "| \u001b[0m22       \u001b[0m | \u001b[0m0.915    \u001b[0m | \u001b[0m1.419    \u001b[0m | \u001b[0m19.22    \u001b[0m | \u001b[0m19.53    \u001b[0m | \u001b[0m199.7    \u001b[0m |\n",
            "| \u001b[0m23       \u001b[0m | \u001b[0m0.9148   \u001b[0m | \u001b[0m1.0      \u001b[0m | \u001b[0m1.0      \u001b[0m | \u001b[0m20.0     \u001b[0m | \u001b[0m56.61    \u001b[0m |\n",
            "| \u001b[0m24       \u001b[0m | \u001b[0m0.9374   \u001b[0m | \u001b[0m20.0     \u001b[0m | \u001b[0m20.0     \u001b[0m | \u001b[0m2.0      \u001b[0m | \u001b[0m68.82    \u001b[0m |\n",
            "| \u001b[95m25       \u001b[0m | \u001b[95m0.9475   \u001b[0m | \u001b[95m20.0     \u001b[0m | \u001b[95m1.0      \u001b[0m | \u001b[95m2.0      \u001b[0m | \u001b[95m200.0    \u001b[0m |\n",
            "| \u001b[0m26       \u001b[0m | \u001b[0m0.9471   \u001b[0m | \u001b[0m20.0     \u001b[0m | \u001b[0m1.0      \u001b[0m | \u001b[0m2.0      \u001b[0m | \u001b[0m99.66    \u001b[0m |\n",
            "| \u001b[0m27       \u001b[0m | \u001b[0m0.9467   \u001b[0m | \u001b[0m20.0     \u001b[0m | \u001b[0m1.0      \u001b[0m | \u001b[0m2.0      \u001b[0m | \u001b[0m152.8    \u001b[0m |\n",
            "| \u001b[0m28       \u001b[0m | \u001b[0m0.9436   \u001b[0m | \u001b[0m19.45    \u001b[0m | \u001b[0m2.69     \u001b[0m | \u001b[0m16.9     \u001b[0m | \u001b[0m178.3    \u001b[0m |\n",
            "| \u001b[0m29       \u001b[0m | \u001b[0m0.9387   \u001b[0m | \u001b[0m20.0     \u001b[0m | \u001b[0m20.0     \u001b[0m | \u001b[0m20.0     \u001b[0m | \u001b[0m110.5    \u001b[0m |\n",
            "| \u001b[0m30       \u001b[0m | \u001b[0m0.9474   \u001b[0m | \u001b[0m20.0     \u001b[0m | \u001b[0m1.0      \u001b[0m | \u001b[0m2.0      \u001b[0m | \u001b[0m183.6    \u001b[0m |\n",
            "| \u001b[0m31       \u001b[0m | \u001b[0m0.9432   \u001b[0m | \u001b[0m20.0     \u001b[0m | \u001b[0m1.0      \u001b[0m | \u001b[0m20.0     \u001b[0m | \u001b[0m91.82    \u001b[0m |\n",
            "| \u001b[0m32       \u001b[0m | \u001b[0m0.9388   \u001b[0m | \u001b[0m20.0     \u001b[0m | \u001b[0m20.0     \u001b[0m | \u001b[0m2.0      \u001b[0m | \u001b[0m173.5    \u001b[0m |\n",
            "| \u001b[0m33       \u001b[0m | \u001b[0m0.9158   \u001b[0m | \u001b[0m1.0      \u001b[0m | \u001b[0m20.0     \u001b[0m | \u001b[0m20.0     \u001b[0m | \u001b[0m85.45    \u001b[0m |\n",
            "| \u001b[95m34       \u001b[0m | \u001b[95m0.9477   \u001b[0m | \u001b[95m20.0     \u001b[0m | \u001b[95m1.0      \u001b[0m | \u001b[95m2.0      \u001b[0m | \u001b[95m64.78    \u001b[0m |\n",
            "| \u001b[0m35       \u001b[0m | \u001b[0m0.9391   \u001b[0m | \u001b[0m20.0     \u001b[0m | \u001b[0m20.0     \u001b[0m | \u001b[0m20.0     \u001b[0m | \u001b[0m135.8    \u001b[0m |\n",
            "| \u001b[0m36       \u001b[0m | \u001b[0m0.9112   \u001b[0m | \u001b[0m1.0      \u001b[0m | \u001b[0m20.0     \u001b[0m | \u001b[0m2.0      \u001b[0m | \u001b[0m46.99    \u001b[0m |\n",
            "| \u001b[0m37       \u001b[0m | \u001b[0m0.9399   \u001b[0m | \u001b[0m20.0     \u001b[0m | \u001b[0m1.0      \u001b[0m | \u001b[0m20.0     \u001b[0m | \u001b[0m40.62    \u001b[0m |\n",
            "| \u001b[0m38       \u001b[0m | \u001b[0m0.9392   \u001b[0m | \u001b[0m20.0     \u001b[0m | \u001b[0m20.0     \u001b[0m | \u001b[0m2.0      \u001b[0m | \u001b[0m119.6    \u001b[0m |\n",
            "| \u001b[0m39       \u001b[0m | \u001b[0m0.9388   \u001b[0m | \u001b[0m20.0     \u001b[0m | \u001b[0m20.0     \u001b[0m | \u001b[0m2.0      \u001b[0m | \u001b[0m94.9     \u001b[0m |\n",
            "| \u001b[0m40       \u001b[0m | \u001b[0m0.9444   \u001b[0m | \u001b[0m19.17    \u001b[0m | \u001b[0m1.216    \u001b[0m | \u001b[0m18.88    \u001b[0m | \u001b[0m160.2    \u001b[0m |\n",
            "=========================================================================\n"
          ]
        },
        {
          "output_type": "stream",
          "name": "stderr",
          "text": [
            "[I 2024-06-18 17:19:29,372] A new study created in memory with name: no-name-9a9edb4a-f031-43ff-912f-9d00239fb97d\n",
            "[I 2024-06-18 17:19:29,571] Trial 0 finished with value: 0.91609 and parameters: {'n_estimators': 14, 'max_depth': 3, 'min_samples_split': 9, 'min_samples_leaf': 13}. Best is trial 0 with value: 0.91609.\n",
            "[I 2024-06-18 17:19:30,671] Trial 1 finished with value: 0.9216599999999999 and parameters: {'n_estimators': 98, 'max_depth': 2, 'min_samples_split': 15, 'min_samples_leaf': 16}. Best is trial 1 with value: 0.9216599999999999.\n",
            "[I 2024-06-18 17:19:31,653] Trial 2 finished with value: 0.9390599999999999 and parameters: {'n_estimators': 46, 'max_depth': 18, 'min_samples_split': 14, 'min_samples_leaf': 11}. Best is trial 2 with value: 0.9390599999999999.\n",
            "[I 2024-06-18 17:19:32,179] Trial 3 finished with value: 0.9339799999999998 and parameters: {'n_estimators': 24, 'max_depth': 11, 'min_samples_split': 15, 'min_samples_leaf': 18}. Best is trial 2 with value: 0.9390599999999999.\n",
            "[I 2024-06-18 17:19:34,342] Trial 4 finished with value: 0.91622 and parameters: {'n_estimators': 162, 'max_depth': 1, 'min_samples_split': 2, 'min_samples_leaf': 4}. Best is trial 2 with value: 0.9390599999999999.\n",
            "[I 2024-06-18 17:19:37,324] Trial 5 finished with value: 0.94214 and parameters: {'n_estimators': 190, 'max_depth': 7, 'min_samples_split': 9, 'min_samples_leaf': 5}. Best is trial 5 with value: 0.94214.\n",
            "[I 2024-06-18 17:19:39,013] Trial 6 finished with value: 0.9423999999999999 and parameters: {'n_estimators': 103, 'max_depth': 15, 'min_samples_split': 11, 'min_samples_leaf': 6}. Best is trial 6 with value: 0.9423999999999999.\n",
            "[I 2024-06-18 17:19:41,113] Trial 7 finished with value: 0.9418 and parameters: {'n_estimators': 132, 'max_depth': 15, 'min_samples_split': 8, 'min_samples_leaf': 8}. Best is trial 6 with value: 0.9423999999999999.\n",
            "[I 2024-06-18 17:19:42,143] Trial 8 finished with value: 0.94016 and parameters: {'n_estimators': 66, 'max_depth': 16, 'min_samples_split': 10, 'min_samples_leaf': 10}. Best is trial 6 with value: 0.9423999999999999.\n",
            "[I 2024-06-18 17:19:43,174] Trial 9 finished with value: 0.9401400000000001 and parameters: {'n_estimators': 66, 'max_depth': 12, 'min_samples_split': 16, 'min_samples_leaf': 10}. Best is trial 6 with value: 0.9423999999999999.\n",
            "[I 2024-06-18 17:19:45,813] Trial 10 finished with value: 0.94612 and parameters: {'n_estimators': 113, 'max_depth': 20, 'min_samples_split': 4, 'min_samples_leaf': 1}. Best is trial 10 with value: 0.94612.\n",
            "[I 2024-06-18 17:19:48,379] Trial 11 finished with value: 0.9445399999999999 and parameters: {'n_estimators': 117, 'max_depth': 20, 'min_samples_split': 20, 'min_samples_leaf': 1}. Best is trial 10 with value: 0.94612.\n",
            "[I 2024-06-18 17:19:50,742] Trial 12 finished with value: 0.9444800000000001 and parameters: {'n_estimators': 134, 'max_depth': 20, 'min_samples_split': 19, 'min_samples_leaf': 1}. Best is trial 10 with value: 0.94612.\n",
            "[I 2024-06-18 17:19:53,148] Trial 13 finished with value: 0.9463799999999999 and parameters: {'n_estimators': 133, 'max_depth': 20, 'min_samples_split': 4, 'min_samples_leaf': 1}. Best is trial 13 with value: 0.9463799999999999.\n",
            "[I 2024-06-18 17:19:55,755] Trial 14 finished with value: 0.9428000000000001 and parameters: {'n_estimators': 161, 'max_depth': 7, 'min_samples_split': 3, 'min_samples_leaf': 3}. Best is trial 13 with value: 0.9463799999999999.\n",
            "[I 2024-06-18 17:19:57,343] Trial 15 finished with value: 0.94542 and parameters: {'n_estimators': 87, 'max_depth': 17, 'min_samples_split': 5, 'min_samples_leaf': 1}. Best is trial 13 with value: 0.9463799999999999.\n",
            "[I 2024-06-18 17:20:01,090] Trial 16 finished with value: 0.9433200000000002 and parameters: {'n_estimators': 164, 'max_depth': 13, 'min_samples_split': 6, 'min_samples_leaf': 7}. Best is trial 13 with value: 0.9463799999999999.\n",
            "[I 2024-06-18 17:20:03,390] Trial 17 finished with value: 0.9439 and parameters: {'n_estimators': 139, 'max_depth': 8, 'min_samples_split': 5, 'min_samples_leaf': 3}. Best is trial 13 with value: 0.9463799999999999.\n",
            "[I 2024-06-18 17:20:04,571] Trial 18 finished with value: 0.93818 and parameters: {'n_estimators': 78, 'max_depth': 19, 'min_samples_split': 7, 'min_samples_leaf': 15}. Best is trial 13 with value: 0.9463799999999999.\n",
            "[I 2024-06-18 17:20:07,618] Trial 19 finished with value: 0.94176 and parameters: {'n_estimators': 193, 'max_depth': 14, 'min_samples_split': 4, 'min_samples_leaf': 8}. Best is trial 13 with value: 0.9463799999999999.\n",
            "[I 2024-06-18 17:20:09,663] Trial 20 finished with value: 0.94414 and parameters: {'n_estimators': 118, 'max_depth': 18, 'min_samples_split': 12, 'min_samples_leaf': 3}. Best is trial 13 with value: 0.9463799999999999.\n",
            "[I 2024-06-18 17:20:11,579] Trial 21 finished with value: 0.9468099999999999 and parameters: {'n_estimators': 88, 'max_depth': 17, 'min_samples_split': 2, 'min_samples_leaf': 1}. Best is trial 21 with value: 0.9468099999999999.\n",
            "[I 2024-06-18 17:20:15,079] Trial 22 finished with value: 0.9469200000000001 and parameters: {'n_estimators': 145, 'max_depth': 20, 'min_samples_split': 2, 'min_samples_leaf': 1}. Best is trial 22 with value: 0.9469200000000001.\n",
            "[I 2024-06-18 17:20:17,556] Trial 23 finished with value: 0.94278 and parameters: {'n_estimators': 147, 'max_depth': 17, 'min_samples_split': 2, 'min_samples_leaf': 5}. Best is trial 22 with value: 0.9469200000000001.\n",
            "[I 2024-06-18 17:20:20,597] Trial 24 finished with value: 0.9448000000000001 and parameters: {'n_estimators': 177, 'max_depth': 18, 'min_samples_split': 2, 'min_samples_leaf': 3}. Best is trial 22 with value: 0.9469200000000001.\n",
            "[I 2024-06-18 17:20:22,192] Trial 25 finished with value: 0.94618 and parameters: {'n_estimators': 90, 'max_depth': 16, 'min_samples_split': 4, 'min_samples_leaf': 2}. Best is trial 22 with value: 0.9469200000000001.\n",
            "[I 2024-06-18 17:20:24,968] Trial 26 finished with value: 0.9429000000000001 and parameters: {'n_estimators': 152, 'max_depth': 20, 'min_samples_split': 6, 'min_samples_leaf': 5}. Best is trial 22 with value: 0.9469200000000001.\n",
            "[I 2024-06-18 17:20:27,598] Trial 27 finished with value: 0.9389 and parameters: {'n_estimators': 127, 'max_depth': 9, 'min_samples_split': 2, 'min_samples_leaf': 20}. Best is trial 22 with value: 0.9469200000000001.\n",
            "[I 2024-06-18 17:20:30,551] Trial 28 finished with value: 0.9432600000000001 and parameters: {'n_estimators': 177, 'max_depth': 18, 'min_samples_split': 7, 'min_samples_leaf': 4}. Best is trial 22 with value: 0.9469200000000001.\n",
            "[I 2024-06-18 17:20:31,313] Trial 29 finished with value: 0.9404600000000001 and parameters: {'n_estimators': 48, 'max_depth': 14, 'min_samples_split': 3, 'min_samples_leaf': 12}. Best is trial 22 with value: 0.9469200000000001.\n",
            "[I 2024-06-18 17:20:33,038] Trial 30 finished with value: 0.94324 and parameters: {'n_estimators': 107, 'max_depth': 19, 'min_samples_split': 5, 'min_samples_leaf': 7}. Best is trial 22 with value: 0.9469200000000001.\n",
            "[I 2024-06-18 17:20:34,360] Trial 31 finished with value: 0.94084 and parameters: {'n_estimators': 89, 'max_depth': 5, 'min_samples_split': 4, 'min_samples_leaf': 1}. Best is trial 22 with value: 0.9469200000000001.\n",
            "[I 2024-06-18 17:20:36,022] Trial 32 finished with value: 0.94574 and parameters: {'n_estimators': 94, 'max_depth': 16, 'min_samples_split': 3, 'min_samples_leaf': 2}. Best is trial 22 with value: 0.9469200000000001.\n",
            "[I 2024-06-18 17:20:37,366] Trial 33 finished with value: 0.94568 and parameters: {'n_estimators': 75, 'max_depth': 16, 'min_samples_split': 4, 'min_samples_leaf': 2}. Best is trial 22 with value: 0.9469200000000001.\n",
            "[I 2024-06-18 17:20:38,830] Trial 34 finished with value: 0.9430799999999999 and parameters: {'n_estimators': 58, 'max_depth': 19, 'min_samples_split': 6, 'min_samples_leaf': 2}. Best is trial 22 with value: 0.9469200000000001.\n",
            "[I 2024-06-18 17:20:39,487] Trial 35 finished with value: 0.9407 and parameters: {'n_estimators': 24, 'max_depth': 11, 'min_samples_split': 3, 'min_samples_leaf': 4}. Best is trial 22 with value: 0.9469200000000001.\n",
            "[I 2024-06-18 17:20:42,274] Trial 36 finished with value: 0.94016 and parameters: {'n_estimators': 145, 'max_depth': 17, 'min_samples_split': 8, 'min_samples_leaf': 14}. Best is trial 22 with value: 0.9469200000000001.\n",
            "[I 2024-06-18 17:20:44,827] Trial 37 finished with value: 0.9459899999999999 and parameters: {'n_estimators': 99, 'max_depth': 19, 'min_samples_split': 2, 'min_samples_leaf': 2}. Best is trial 22 with value: 0.9469200000000001.\n",
            "[I 2024-06-18 17:20:46,098] Trial 38 finished with value: 0.9366999999999999 and parameters: {'n_estimators': 80, 'max_depth': 15, 'min_samples_split': 12, 'min_samples_leaf': 17}. Best is trial 22 with value: 0.9469200000000001.\n",
            "[I 2024-06-18 17:20:48,200] Trial 39 finished with value: 0.94298 and parameters: {'n_estimators': 124, 'max_depth': 17, 'min_samples_split': 9, 'min_samples_leaf': 4}. Best is trial 22 with value: 0.9469200000000001.\n"
          ]
        },
        {
          "output_type": "stream",
          "name": "stdout",
          "text": [
            "Random Model ROC AUC: 0.9471\n",
            "Bayesian Optimization ROC AUC: 0.9477\n",
            "TPE Optimization ROC AUC: 0.9469\n"
          ]
        }
      ]
    },
    {
      "cell_type": "code",
      "source": [
        "plot_learning_curves(random_score, bayes_opt_score, tpe_opt_score)"
      ],
      "metadata": {
        "colab": {
          "base_uri": "https://localhost:8080/",
          "height": 564
        },
        "id": "zYLmkV1HWb9s",
        "outputId": "0d9f32c0-ac21-4936-8715-68ff22eefacb"
      },
      "execution_count": 10,
      "outputs": [
        {
          "output_type": "display_data",
          "data": {
            "text/plain": [
              "<Figure size 800x600 with 1 Axes>"
            ],
            "image/png": "[encoded data removed]"
          },
          "metadata": {}
        }
      ]
    },
    {
      "cell_type": "code",
      "source": [],
      "metadata": {
        "id": "G36QqdSiWb7d"
      },
      "execution_count": 10,
      "outputs": []
    },
    {
      "cell_type": "code",
      "source": [],
      "metadata": {
        "id": "bdVA9hvvWX-o"
      },
      "execution_count": 10,
      "outputs": []
    },
    {
      "cell_type": "code",
      "source": [],
      "metadata": {
        "id": "fTbMTaO9WX8R"
      },
      "execution_count": 10,
      "outputs": []
    },
    {
      "cell_type": "code",
      "source": [],
      "metadata": {
        "id": "DxeedDMmWX58"
      },
      "execution_count": 10,
      "outputs": []
    },
    {
      "cell_type": "code",
      "source": [],
      "metadata": {
        "id": "_kDm3NRsWXv0"
      },
      "execution_count": 10,
      "outputs": []
    }
  ]
}